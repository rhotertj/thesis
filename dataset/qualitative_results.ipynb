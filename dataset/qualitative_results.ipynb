{
 "cells": [
  {
   "attachments": {},
   "cell_type": "markdown",
   "metadata": {},
   "source": [
    "### Imports"
   ]
  },
  {
   "cell_type": "code",
   "execution_count": null,
   "metadata": {},
   "outputs": [],
   "source": [
    "from pathlib import Path\n",
    "import os\n",
    "from tqdm import tqdm\n",
    "from PIL import Image\n",
    "import seaborn as sns\n",
    "import matplotlib.pyplot as plt\n",
    "import matplotlib.animation as animation\n",
    "import pandas as pd\n",
    "import numpy as np\n",
    "import pickle as pkl\n",
    "\n",
    "from omegaconf import OmegaConf as omcon\n",
    "\n",
    "\n",
    "import torch\n",
    "\n",
    "import sys\n",
    "sys.path.append(\"..\") # root of repo\n",
    "sys.path.append(\"/nfs/home/rhotertj/Code/thesis/src\")\n",
    "import src.multimodal_transforms as mmt\n",
    "from src.lit_models import LitModel, weighted_cross_entropy, unweighted_cross_entropy, twin_head_loss, Cache\n",
    "from src.video_models import make_kinetics_mvit\n",
    "from src.graph_models import GAT, PositionTransformer, GIN\n",
    "from src.multimodal_models import MultiModalModel\n",
    "from src.lit_data import LitMultiModalHblDataset, LitResampledHblDataset, collate_function_builder\n",
    "from src.data import LabelDecoder\n",
    "from src.utils import get_proportions_df\n"
   ]
  },
  {
   "attachments": {},
   "cell_type": "markdown",
   "metadata": {},
   "source": [
    "### Load model and dataset"
   ]
  },
  {
   "cell_type": "code",
   "execution_count": null,
   "metadata": {},
   "outputs": [],
   "source": [
    "ckpt_dir = Path(\"/nfs/home/rhotertj/Code/thesis/experiments/input_format/posiformer_indicator_shuffle_long\")\n",
    "\n",
    "ckpt_file = [f for f in os.listdir(ckpt_dir) if f.endswith(\".ckpt\")][-1]\n",
    "print(\"Loading\", ckpt_file)\n",
    "config = omcon.load(ckpt_dir / \"config.yaml\")\n",
    "cache = Cache()\n",
    "cache.load(ckpt_dir / \"val_results.pkl\")\n",
    "\n",
    "# remove pretrained model weights, they are overwritten anyways by lightning checkpoint\n",
    "if config.model.name == \"MultiModalModel\":\n",
    "    config.model.params.video_model_ckpt = \"\"\n",
    "    config.model.params.graph_model_ckpt = \"\"\n",
    "\n",
    "loss_func = eval(config.loss_func)\n",
    "label_decoder = LabelDecoder(config.num_classes)\n",
    "config.data.params.batch_size = 1\n",
    "\n",
    "lit_dataset = eval(config.data.name)(**config.data.params, label_mapping=label_decoder)\n",
    "lit_dataset.setup(\"validate\")\n",
    "val_loader = lit_dataset.val_dataloader()\n",
    "dataset = lit_dataset.data_val\n",
    "\n",
    "base_path = Path(\".\") / \"analysis\" / ckpt_dir.name\n",
    "if not os.path.exists(base_path):\n",
    "    os.makedirs(base_path)\n",
    "\n",
    "model = eval(config.model.name)(**config.model.params,  num_classes=config.num_classes, batch_size=config.data.params.batch_size)\n",
    "print(config.model.name)\n",
    "lit_model = LitModel.load_from_checkpoint(\n",
    "    ckpt_dir / ckpt_file,\n",
    "    optimizer=None,\n",
    "    scheduler=None,\n",
    "    loss_func=loss_func,\n",
    "    model=model,\n",
    "    label_mapping=label_decoder,\n",
    "    experiment_dir=base_path\n",
    ")\n",
    "lit_model = lit_model.eval()\n",
    "if torch.cuda.is_available():\n",
    "    print(\"GPU!\")\n",
    "    lit_model.cuda()\n",
    "else:\n",
    "    print(\"CPU\")\n",
    "\n"
   ]
  },
  {
   "cell_type": "code",
   "execution_count": null,
   "metadata": {},
   "outputs": [],
   "source": [
    "pd.DataFrame(cache.data)"
   ]
  },
  {
   "attachments": {},
   "cell_type": "markdown",
   "metadata": {},
   "source": [
    "### Run prediction on validation data and save results"
   ]
  },
  {
   "cell_type": "code",
   "execution_count": null,
   "metadata": {},
   "outputs": [],
   "source": [
    "val_res_name = base_path / \"val_results.pkl\"\n",
    "if not os.path.exists(val_res_name):\n",
    "\n",
    "    val_results = [] # list of dicts with all info but frames, we can load them later via query idx!\n",
    "    device = \"cuda:0\" if torch.cuda.is_available() else \"cpu\"\n",
    "    for instance in tqdm(val_loader):\n",
    "        if \"frames\" in instance:\n",
    "            instance[\"frames\"] = instance[\"frames\"].to(device)\n",
    "        instance[\"positions\"] = instance[\"positions\"].to(device)\n",
    "        pred = lit_model.forward(instance)\n",
    "        if isinstance(pred, tuple):\n",
    "            pred, pred_offset = pred\n",
    "            pred = pred.detach().cpu()\n",
    "            pred_offset = pred_offset.detach().cpu()\n",
    "            loss = loss_func(pred, pred_offset, instance[\"label\"], instance[\"label_offset\"])\n",
    "        else:\n",
    "            pred = pred.detach().cpu()\n",
    "            loss = loss_func(pred, instance[\"label\"], instance[\"label_offset\"])\n",
    "        res = {\n",
    "            \"query_idx\" : instance[\"query_idx\"].item(),\n",
    "            \"frame_idx\" : instance[\"frame_idx\"].item(),\n",
    "            \"match_number\" : instance[\"match_number\"].item(),\n",
    "            \"label\" : instance[\"label\"].item(),\n",
    "            \"label_offset\" : instance[\"label_offset\"].item(),\n",
    "            \"label_idx\" : instance[\"label_offset\"].item(),\n",
    "            \"prediction\" : pred.detach().cpu().numpy().argmax(-1),\n",
    "            \"confidences\" : pred.detach().cpu().numpy(),\n",
    "            \"loss\" : loss.item()\n",
    "        }\n",
    "        val_results.append(res)\n",
    "\n",
    "    with open(val_res_name, \"wb+\") as f:\n",
    "        pkl.dump(val_results, f)\n",
    "\n",
    "else:\n",
    "    with open(val_res_name, \"rb\") as f:\n",
    "        val_results = pkl.load(f)"
   ]
  },
  {
   "attachments": {},
   "cell_type": "markdown",
   "metadata": {},
   "source": [
    "### Distribution over offsets"
   ]
  },
  {
   "cell_type": "code",
   "execution_count": null,
   "metadata": {},
   "outputs": [],
   "source": [
    "df = pd.DataFrame(cache.data)\n",
    "df[\"correct\"] = False\n",
    "df.loc[df[\"ground_truths\"] == df[\"predictions\"], \"correct\"] = True\n",
    "df_nobg = df[df[\"ground_truths\"] != 0]\n",
    "dataset.load_frames = True\n"
   ]
  },
  {
   "cell_type": "code",
   "execution_count": null,
   "metadata": {},
   "outputs": [],
   "source": [
    "sns.countplot(data=df_nobg, x=\"label_offsets\", hue=\"correct\", width=0.8)\n",
    "plt.savefig(base_path / \"offsets.png\")"
   ]
  },
  {
   "attachments": {},
   "cell_type": "markdown",
   "metadata": {},
   "source": [
    "### Confusion per class"
   ]
  },
  {
   "cell_type": "code",
   "execution_count": null,
   "metadata": {},
   "outputs": [],
   "source": [
    "def renew_figure():\n",
    "    plt.clf()\n",
    "    fig, axis = plt.subplots(2, n, figsize=(16,8))\n",
    "    return fig, axis\n",
    "\n",
    "def animate_samples(dataset, df, n):\n",
    "    fig, axis = renew_figure()\n",
    "    sample_frames = []\n",
    "    sample_positions = []\n",
    "    for i, sample in df.sample(n).iterrows():\n",
    "        idx = i\n",
    "        frames = dataset[idx][\"frames\"].numpy() # cthw\n",
    "        positions = dataset[idx][\"positions\"].as_TNC(normalize=False)\n",
    "        sample_frames.append(frames)\n",
    "        sample_positions.append(positions)\n",
    "    # list of 16 entries, each a list of n frames\n",
    "    sample_frames = np.stack(sample_frames) # ncthw\n",
    "    sample_frames = np.einsum(\"ncthw->nthwc\", sample_frames)\n",
    "\n",
    "    images = []\n",
    "    for t in range(sample_frames.shape[1]):\n",
    "        images_at_timestep = []\n",
    "        for i in range(sample_frames.shape[0]):\n",
    "            # video\n",
    "            im = axis[0, i].imshow(sample_frames[i, t])\n",
    "            axis[0, i].tick_params(\n",
    "                top=False,\n",
    "                bottom=False,\n",
    "                left=False,\n",
    "                right=False,\n",
    "                labelleft=False,\n",
    "                labelbottom=False\n",
    "            )\n",
    "            images_at_timestep.append(im)\n",
    "            # positions\n",
    "            colors = [\"red\", \"green\", \"blue\"]\n",
    "            scatterplot = axis[1, i].scatter(\n",
    "                x=sample_positions[i][t, :, 1],\n",
    "                y=sample_positions[i][t, :, 2],\n",
    "                c=[colors[int(m)] for m in sample_positions[i][t, :, 0]]\n",
    "            )\n",
    "            \n",
    "            axis[1, i].tick_params(\n",
    "                top=False,\n",
    "                bottom=False,\n",
    "                left=False,\n",
    "                right=False,\n",
    "                labelleft=False,\n",
    "                labelbottom=False\n",
    "            )\n",
    "            axis[0, i].set_title(f\"label: {sample['ground_truths']}, pred: {sample['predictions']}\", fontsize='small', loc='left')\n",
    "            images_at_timestep.append(scatterplot)\n",
    "\n",
    "        images.append(images_at_timestep)\n",
    "        \n",
    "\n",
    "    ani = animation.ArtistAnimation(fig, images, interval=50, blit=False, repeat_delay=1000)\n",
    "    return ani\n",
    "\n",
    "for c in label_decoder.get_classnames():\n",
    "    label_int = label_decoder.get_classnames().index(c)\n",
    "    n = 5\n",
    "\n",
    "    tp = df[(df[\"ground_truths\"] == label_int) & (df[\"predictions\"] == label_int)]\n",
    "    fp = df[(df[\"ground_truths\"] != label_int) & (df[\"predictions\"] == label_int)]\n",
    "    fn = df[(df[\"ground_truths\"] == label_int) & (df[\"predictions\"] != label_int)]\n",
    "\n",
    "\n",
    "    animate_samples(dataset, tp, 5).save(base_path / f\"{c}_tp.gif\", fps=10)\n",
    "    animate_samples(dataset, fp, 5).save(base_path / f\"{c}_fp.gif\", fps=10)\n",
    "    animate_samples(dataset, fn, 5).save(base_path / f\"{c}_fn.gif\", fps=10)\n"
   ]
  },
  {
   "attachments": {},
   "cell_type": "markdown",
   "metadata": {},
   "source": [
    "### Top-k loss predictions"
   ]
  },
  {
   "cell_type": "code",
   "execution_count": null,
   "metadata": {},
   "outputs": [],
   "source": [
    "for c in label_decoder.get_classnames():\n",
    "    label_int = label_decoder.get_classnames().index(c)\n",
    "    n = 5\n",
    "    c_df = df[df[\"ground_truths\"] == label_int]\n",
    "    topk = c_df.sort_values(by=\"loss\", ascending=True).head(n)\n",
    "    worstk = c_df.sort_values(by=\"loss\", ascending=False).head(n)\n",
    "    \n",
    "\n",
    "    animate_samples(dataset, topk, n).save(base_path / f\"{c}_topk.gif\", fps=10)\n",
    "    animate_samples(dataset, worstk, n).save(base_path / f\"{c}_worstk.gif\", fps=10)\n"
   ]
  }
 ],
 "metadata": {
  "kernelspec": {
   "display_name": "Python 3 (ipykernel)",
   "language": "python",
   "name": "python3"
  },
  "language_info": {
   "codemirror_mode": {
    "name": "ipython",
    "version": 3
   },
   "file_extension": ".py",
   "mimetype": "text/x-python",
   "name": "python",
   "nbconvert_exporter": "python",
   "pygments_lexer": "ipython3",
   "version": "3.10.9"
  },
  "orig_nbformat": 4
 },
 "nbformat": 4,
 "nbformat_minor": 2
}
