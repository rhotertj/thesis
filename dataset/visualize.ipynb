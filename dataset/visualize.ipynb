{
 "cells": [
  {
   "attachments": {},
   "cell_type": "markdown",
   "metadata": {},
   "source": [
    "### Imports"
   ]
  },
  {
   "cell_type": "code",
   "execution_count": 1,
   "metadata": {},
   "outputs": [
    {
     "name": "stderr",
     "output_type": "stream",
     "text": [
      "/nfs/home/rhotertj/env/miniconda3/envs/thesis/lib/python3.10/site-packages/tqdm/auto.py:22: TqdmWarning: IProgress not found. Please update jupyter and ipywidgets. See https://ipywidgets.readthedocs.io/en/stable/user_install.html\n",
      "  from .autonotebook import tqdm as notebook_tqdm\n",
      "/nfs/home/rhotertj/env/miniconda3/envs/thesis/lib/python3.10/site-packages/torchvision/io/image.py:13: UserWarning: Failed to load image Python extension: libjpeg.so.8: cannot open shared object file: No such file or directory\n",
      "  warn(f\"Failed to load image Python extension: {e}\")\n"
     ]
    }
   ],
   "source": [
    "import sys\n",
    "sys.path.append(\"..\") # root of repo\n",
    "sys.path.append(\"../src/\")\n",
    "import os\n",
    "import numpy as np\n",
    "import pandas as pd\n",
    "import pickle as pkl\n",
    "from collections import Counter, defaultdict\n",
    "import os.path as osp\n",
    "from pathlib import Path\n",
    "from tqdm import tqdm\n",
    "from PIL import Image\n",
    "from src.data.datasets import MultiModalHblDataset, ResampledHblDataset\n",
    "from src.data.labels import LabelDecoder\n",
    "from src.utils import array2gif, draw_trajectory\n",
    "import torchvision\n",
    "import torch\n",
    "import itertools\n",
    "import torchvision.transforms as t\n",
    "import video_transforms as vt\n",
    "import pytorchvideo.transforms as ptvt\n",
    "from lit_data import collate_function_builder\n",
    "\n",
    "from utils import * # debug import"
   ]
  },
  {
   "attachments": {},
   "cell_type": "markdown",
   "metadata": {},
   "source": [
    "### Plot class occurences"
   ]
  },
  {
   "cell_type": "code",
   "execution_count": null,
   "metadata": {},
   "outputs": [],
   "source": [
    "df = pd.read_json(\"dataset_train_sql=16_sr=2_nooverlap.jsonl\", lines=True)\n",
    "df.sample(5)\n",
    "# TODO np diff over idx with actions at sr=1 gives us frame distance between actions, bar chart for intervals"
   ]
  },
  {
   "cell_type": "code",
   "execution_count": null,
   "metadata": {},
   "outputs": [],
   "source": [
    "f = df.groupby(['class_coarse']).size().plot(kind='pie', y='class_coarse', autopct='%1.2f%%')\n"
   ]
  },
  {
   "attachments": {},
   "cell_type": "markdown",
   "metadata": {},
   "source": [
    "### Debugging idx -> Frame index mapping"
   ]
  },
  {
   "cell_type": "code",
   "execution_count": null,
   "metadata": {},
   "outputs": [],
   "source": [
    "sql = 4\n",
    "hql = sql // 2\n",
    "rate = 2\n",
    "sr = sql * rate\n",
    "hr = hql * rate\n",
    "kernel = np.ones(sr)\n",
    "\n",
    "availables = [True, True, True, True, True, True, True, True, True, True, True, True, True, False, False]\n",
    "pos = np.arange(len(availables))\n",
    "\n",
    "cv = np.convolve(availables, kernel)\n",
    "print(f\"{cv}\")\n",
    "idxs = np.where(cv == sr)[0] - (sr - 1) # subtract filter length - 1\n",
    "print(\"idx for valid sequences:\", idxs)\n",
    "\n",
    "q_idx = 0\n",
    "f_idx = idxs[q_idx] + hr\n",
    "sequence = pos[f_idx - hr : f_idx + hr : rate]\n",
    "print(f\"Idx for sequence {q_idx}: {sequence}\")"
   ]
  },
  {
   "attachments": {},
   "cell_type": "markdown",
   "metadata": {},
   "source": [
    "### Visualizing each class"
   ]
  },
  {
   "cell_type": "code",
   "execution_count": 24,
   "metadata": {},
   "outputs": [],
   "source": [
    "dataset = ResampledHblDataset(\n",
    "    meta_path=\"/nfs/home/rhotertj/datasets/hbl/meta3d_val.csv\",\n",
    "    idx_to_frame=\"/nfs/home/rhotertj/datasets/hbl/resampled/balanced/True/overlap/True/sql_sr/16x2/mode/matches/meta3d_val.jsonl\",\n",
    "    seq_len=16,\n",
    "    sampling_rate=2,\n",
    "    load_frames=True,\n",
    "    label_mapping=LabelDecoder(3)\n",
    ")"
   ]
  },
  {
   "cell_type": "code",
   "execution_count": 25,
   "metadata": {},
   "outputs": [
    {
     "data": {
      "image/png": "[encoded data removed]",
      "text/plain": [
       "<Figure size 640x480 with 1 Axes>"
      ]
     },
     "metadata": {},
     "output_type": "display_data"
    }
   ],
   "source": [
    "os.makedirs(\"../img/classes\", exist_ok=True)\n",
    "n_per_class = 3\n",
    "shots = list(range(0, 9))\n",
    "passes = ['A', 'B', 'C', 'D', 'E', 'X', 'O']\n",
    "df = dataset.idx_to_frame_number\n",
    "for s,p in itertools.product(shots, passes):\n",
    "    events = df[(df['shot'] == s) & (df['pass'] == p)]\n",
    "    if len(events) > 0:\n",
    "        events = events.sample(n_per_class)\n",
    "        for i, (idx, event) in enumerate(events.iterrows()):\n",
    "            instance = dataset.__getitem__(idx)\n",
    "            fname = f\"../img/classes/{s}_{p}_{i}\"\n",
    "            array2gif(instance[\"frames\"], fname + \".gif\", 10)\n",
    "            f = draw_trajectory(instance[\"positions\"])\n",
    "            plt.savefig(fname + \".png\")\n",
    "    "
   ]
  },
  {
   "attachments": {},
   "cell_type": "markdown",
   "metadata": {},
   "source": [
    "### Calculating Mean and Standard Deviation"
   ]
  },
  {
   "cell_type": "code",
   "execution_count": null,
   "metadata": {},
   "outputs": [],
   "source": [
    "sql = 16\n",
    "sr = 1\n",
    "dataset_img = MultiModalHblDataset(\n",
    "    meta_path=\"/nfs/home/rhotertj/datasets/hbl/meta3d.csv\",\n",
    "    seq_len=sql,\n",
    "    sampling_rate=sr,\n",
    "    load_frames=True\n",
    ")\n",
    "print(len(dataset_img))\n",
    "n = 0\n",
    "means = np.zeros((len(dataset_img) + sql, 3))\n",
    "stds = np.zeros((len(dataset_img) + sql, 3))\n",
    "\n",
    "for i in tqdm(range(0, len(dataset_img), sql)):\n",
    "    frames = torch.tensor(dataset_img[i][\"frames\"]) / 255\n",
    "\n",
    "    for j, frame in enumerate(frames):\n",
    "        mean, std = frame.mean([1,2]), frame.std([1,2])\n",
    "        means[i+j] = mean\n",
    "        stds[i+j] = std\n",
    "\n",
    "        n+=1\n",
    "print(n)\n",
    "print(means.shape)\n",
    "# Maybe we want to calculate this per match instead of over the whole dataset\n"
   ]
  },
  {
   "cell_type": "code",
   "execution_count": null,
   "metadata": {},
   "outputs": [],
   "source": [
    "np.save(\"means.npy\", means)\n",
    "np.save(\"std.npy\", stds)"
   ]
  },
  {
   "cell_type": "code",
   "execution_count": null,
   "metadata": {},
   "outputs": [],
   "source": [
    "print(means.mean(0), stds.mean(0))"
   ]
  },
  {
   "attachments": {},
   "cell_type": "markdown",
   "metadata": {},
   "source": [
    "### Test plotting"
   ]
  },
  {
   "cell_type": "code",
   "execution_count": null,
   "metadata": {},
   "outputs": [],
   "source": [
    "dataset_img = MultiModalHblDataset(\n",
    "    meta_path=\"/nfs/home/rhotertj/datasets/hbl/meta3d.csv\",\n",
    "    seq_len=16,\n",
    "    sampling_rate=2,\n",
    "    load_frames=False\n",
    ")"
   ]
  },
  {
   "cell_type": "code",
   "execution_count": null,
   "metadata": {},
   "outputs": [],
   "source": [
    "instance = dataset_img[11345]\n",
    "\n",
    "draw_trajectory(instance[\"positions\"])"
   ]
  },
  {
   "attachments": {},
   "cell_type": "markdown",
   "metadata": {},
   "source": [
    "### Test transforms and augmentation"
   ]
  },
  {
   "cell_type": "code",
   "execution_count": 2,
   "metadata": {},
   "outputs": [],
   "source": [
    "\n",
    "transforms_jitter = t.Compose([\n",
    "            vt.FrameSequenceToTensor(),\n",
    "            vt.TimeFirst(),\n",
    "            t.ColorJitter(brightness=0.2, hue=.2, contrast=0.2, saturation=0.2),\n",
    "            vt.ChannelFirst(),\n",
    "            t.Resize((224,224)),\n",
    "            ])\n",
    "\n",
    "transforms_randaugment = t.Compose([\n",
    "            vt.FrameSequenceToTensor(),\n",
    "            vt.TimeFirst(),\n",
    "            t.Resize((224,224)),\n",
    "            ptvt.RandAugment(num_layers=3, prob=0.5, magnitude=5),\n",
    "            vt.ChannelFirst(),\n",
    "            ])\n",
    "\n",
    "transforms_raw = t.Compose([\n",
    "            vt.FrameSequenceToTensor(),\n",
    "            t.Resize((224,224)),\n",
    "    ])\n",
    "\n",
    "transforms_full = t.Compose([\n",
    "            vt.FrameSequenceToTensor(),\n",
    "            vt.RandomHorizontalFlipVideo(p=0.5),\n",
    "            vt.TimeFirst(),\n",
    "            t.ColorJitter(brightness=0.2, hue=.2, contrast=0.2, saturation=0.2),\n",
    "            ptvt.RandAugment(num_layers=3, prob=0.5, magnitude=5),\n",
    "            vt.ChannelFirst(),\n",
    "            t.Resize((224,224)),\n",
    "            ])\n",
    "dataset_img = ResampledHblDataset(\n",
    "                meta_path=\"/nfs/home/rhotertj/datasets/hbl/meta3d_train.csv\",\n",
    "                idx_to_frame=\"/nfs/home/rhotertj/datasets/hbl/resampled/balanced/True/overlap/True/sql_sr/16x2/mode/matches/meta3d_train.jsonl\",\n",
    "                label_mapping=LabelDecoder(3),\n",
    "                load_frames=True,\n",
    "                seq_len=16,\n",
    "                sampling_rate=2,\n",
    "                transforms=transforms_raw\n",
    "            )\n",
    "\n",
    "collate_mixvideo = collate_function_builder(epsilon=7, load_frames=True, mix_video=ptvt.MixVideo(num_classes=3, cutmix_alpha=0.8, cutmix_prob=0))\n",
    "collate_fn = collate_function_builder(epsilon=7, load_frames=True)"
   ]
  },
  {
   "cell_type": "code",
   "execution_count": null,
   "metadata": {},
   "outputs": [],
   "source": [
    "dataset_img.transforms = transforms_randaugment\n",
    "for i in tqdm(dataset_img):\n",
    "    pass"
   ]
  },
  {
   "cell_type": "code",
   "execution_count": 3,
   "metadata": {},
   "outputs": [
    {
     "name": "stdout",
     "output_type": "stream",
     "text": [
      "mixup\n"
     ]
    }
   ],
   "source": [
    "raw_instances = []\n",
    "jitter_instances = []\n",
    "randaug_instances = []\n",
    "combined_instances = []\n",
    "idxs = [13456,23574,98533,64378,22546,324567,243343,9632] #random\n",
    "for i in range(8):\n",
    "    dataset_img.transforms = transforms_raw\n",
    "    instance = dataset_img[idxs[i]]\n",
    "    raw_instances.append(instance)\n",
    "\n",
    "    dataset_img.transforms = transforms_jitter\n",
    "    instance = dataset_img[idxs[i]]\n",
    "    jitter_instances.append(instance)\n",
    "\n",
    "    dataset_img.transforms = transforms_randaugment\n",
    "    instance = dataset_img[idxs[i]]\n",
    "    randaug_instances.append(instance)\n",
    "\n",
    "    dataset_img.transforms = transforms_full\n",
    "    instance = dataset_img[idxs[i]]\n",
    "    combined_instances.append(instance)\n",
    "\n",
    "raw_batch = collate_fn(raw_instances)\n",
    "mix_batch = collate_mixvideo(raw_instances)\n",
    "jitter_batch = collate_fn(jitter_instances)\n",
    "randaug_batch = collate_fn(randaug_instances)\n",
    "combined_batch = collate_mixvideo(combined_instances)\n",
    "\n",
    "for i in range(8):\n",
    "    for name, batch in zip([\"raw\", \"mixvideo\", \"jitter\", \"randaug\", \"combined\"], [raw_batch, mix_batch, jitter_batch, randaug_batch, combined_batch]):\n",
    "        frames = batch[\"frames\"][i].mul(255).to(torch.uint8).numpy()\n",
    "        array2gif(frames, f\"../img/transforms/{name}_transforms_{i}.gif\", 10)\n"
   ]
  }
 ],
 "metadata": {
  "kernelspec": {
   "display_name": "Python 3.10.6 ('thesis')",
   "language": "python",
   "name": "python3"
  },
  "language_info": {
   "codemirror_mode": {
    "name": "ipython",
    "version": 3
   },
   "file_extension": ".py",
   "mimetype": "text/x-python",
   "name": "python",
   "nbconvert_exporter": "python",
   "pygments_lexer": "ipython3",
   "version": "3.10.9"
  },
  "orig_nbformat": 4,
  "vscode": {
   "interpreter": {
    "hash": "b6bfefc7a39950bcdd742af1d8d7db7c97e184d8839e8870b13ce1c69afb51e4"
   }
  }
 },
 "nbformat": 4,
 "nbformat_minor": 2
}
