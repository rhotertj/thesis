{
 "cells": [
  {
   "attachments": {},
   "cell_type": "markdown",
   "metadata": {},
   "source": [
    "### Imports"
   ]
  },
  {
   "cell_type": "code",
   "execution_count": 1,
   "metadata": {},
   "outputs": [],
   "source": [
    "import sys\n",
    "sys.path.append(\"..\") # root of repo\n",
    "import os\n",
    "import numpy as np\n",
    "import pandas as pd\n",
    "import pickle as pkl\n",
    "import ipywidgets as widgets\n",
    "from collections import Counter, defaultdict\n",
    "import os.path as osp\n",
    "from pathlib import Path\n",
    "from tqdm import tqdm\n",
    "from PIL import Image\n",
    "from src.data import MultiModalHblDataset\n",
    "from src.utils import array2gif, draw_trajectory\n",
    "import torchvision\n",
    "import torch\n",
    "\n",
    "from visualize_utils import * # debug import"
   ]
  },
  {
   "attachments": {},
   "cell_type": "markdown",
   "metadata": {},
   "source": [
    "### Convert dataset to Json"
   ]
  },
  {
   "cell_type": "code",
   "execution_count": 20,
   "metadata": {},
   "outputs": [
    {
     "name": "stderr",
     "output_type": "stream",
     "text": [
      "100%|██████████| 19823/19823 [00:13<00:00, 1515.07it/s]\n"
     ]
    }
   ],
   "source": [
    "# f = plot_event_proportions(\"occurences_16_2_train.csv\")\n",
    "sql = 16\n",
    "sr = 2\n",
    "data_path = Path(\"/nfs/home/rhotertj/datasets/hbl\")\n",
    "dataset = MultiModalHblDataset(\n",
    "    meta_path=data_path / \"meta3d_train.csv\",\n",
    "    seq_len=sql,\n",
    "    sampling_rate=sr,\n",
    "    load_frames=False   \n",
    ")\n",
    "data_dict = []\n",
    "for idx in tqdm(range(len(dataset))):\n",
    "    instance = dataset[idx]\n",
    "    label = instance[\"label\"]\n",
    "    data_dict.append(\n",
    "        {\n",
    "            \"idx\" : idx,\n",
    "            \"frame_idx\" : instance[\"frame_idx\"],\n",
    "            \"label\" : label,\n",
    "            \"shot\" : label.get(\"Wurf\"),\n",
    "            \"pass\" : label.get(\"Pass\"),\n",
    "            \"outcome\" : label.get(\"Ergebnis\"),\n",
    "            \"body\" : label.get(\"Körper\"),\n",
    "            \"team\" : label.get(\"Team\"),\n",
    "            \"hand\" : label.get(\"Hand\"),\n",
    "            \"match_number\" : instance[\"match_number\"]\n",
    "        }\n",
    "    )\n",
    "\n"
   ]
  },
  {
   "cell_type": "code",
   "execution_count": 21,
   "metadata": {},
   "outputs": [
    {
     "data": {
      "text/html": [
       "<div>\n",
       "<style scoped>\n",
       "    .dataframe tbody tr th:only-of-type {\n",
       "        vertical-align: middle;\n",
       "    }\n",
       "\n",
       "    .dataframe tbody tr th {\n",
       "        vertical-align: top;\n",
       "    }\n",
       "\n",
       "    .dataframe thead th {\n",
       "        text-align: right;\n",
       "    }\n",
       "</style>\n",
       "<table border=\"1\" class=\"dataframe\">\n",
       "  <thead>\n",
       "    <tr style=\"text-align: right;\">\n",
       "      <th></th>\n",
       "      <th>idx</th>\n",
       "      <th>frame_idx</th>\n",
       "      <th>label</th>\n",
       "      <th>shot</th>\n",
       "      <th>pass</th>\n",
       "      <th>outcome</th>\n",
       "      <th>body</th>\n",
       "      <th>team</th>\n",
       "      <th>hand</th>\n",
       "      <th>match_number</th>\n",
       "      <th>class_fine</th>\n",
       "      <th>class_coarse</th>\n",
       "    </tr>\n",
       "  </thead>\n",
       "  <tbody>\n",
       "    <tr>\n",
       "      <th>3967</th>\n",
       "      <td>3967</td>\n",
       "      <td>23874</td>\n",
       "      <td>{}</td>\n",
       "      <td>None</td>\n",
       "      <td>None</td>\n",
       "      <td>None</td>\n",
       "      <td>None</td>\n",
       "      <td>None</td>\n",
       "      <td>None</td>\n",
       "      <td>1</td>\n",
       "      <td>Background</td>\n",
       "      <td>Background</td>\n",
       "    </tr>\n",
       "    <tr>\n",
       "      <th>1683</th>\n",
       "      <td>1683</td>\n",
       "      <td>43245</td>\n",
       "      <td>{}</td>\n",
       "      <td>None</td>\n",
       "      <td>None</td>\n",
       "      <td>None</td>\n",
       "      <td>None</td>\n",
       "      <td>None</td>\n",
       "      <td>None</td>\n",
       "      <td>0</td>\n",
       "      <td>Background</td>\n",
       "      <td>Background</td>\n",
       "    </tr>\n",
       "    <tr>\n",
       "      <th>8582</th>\n",
       "      <td>8582</td>\n",
       "      <td>36418</td>\n",
       "      <td>{}</td>\n",
       "      <td>None</td>\n",
       "      <td>None</td>\n",
       "      <td>None</td>\n",
       "      <td>None</td>\n",
       "      <td>None</td>\n",
       "      <td>None</td>\n",
       "      <td>2</td>\n",
       "      <td>Background</td>\n",
       "      <td>Background</td>\n",
       "    </tr>\n",
       "    <tr>\n",
       "      <th>6997</th>\n",
       "      <td>6997</td>\n",
       "      <td>6378</td>\n",
       "      <td>{}</td>\n",
       "      <td>None</td>\n",
       "      <td>None</td>\n",
       "      <td>None</td>\n",
       "      <td>None</td>\n",
       "      <td>None</td>\n",
       "      <td>None</td>\n",
       "      <td>2</td>\n",
       "      <td>Background</td>\n",
       "      <td>Background</td>\n",
       "    </tr>\n",
       "    <tr>\n",
       "      <th>6581</th>\n",
       "      <td>6581</td>\n",
       "      <td>78549</td>\n",
       "      <td>{}</td>\n",
       "      <td>None</td>\n",
       "      <td>None</td>\n",
       "      <td>None</td>\n",
       "      <td>None</td>\n",
       "      <td>None</td>\n",
       "      <td>None</td>\n",
       "      <td>1</td>\n",
       "      <td>Background</td>\n",
       "      <td>Background</td>\n",
       "    </tr>\n",
       "  </tbody>\n",
       "</table>\n",
       "</div>"
      ],
      "text/plain": [
       "       idx  frame_idx label  shot  pass outcome  body  team  hand  \\\n",
       "3967  3967      23874    {}  None  None    None  None  None  None   \n",
       "1683  1683      43245    {}  None  None    None  None  None  None   \n",
       "8582  8582      36418    {}  None  None    None  None  None  None   \n",
       "6997  6997       6378    {}  None  None    None  None  None  None   \n",
       "6581  6581      78549    {}  None  None    None  None  None  None   \n",
       "\n",
       "      match_number  class_fine class_coarse  \n",
       "3967             1  Background   Background  \n",
       "1683             0  Background   Background  \n",
       "8582             2  Background   Background  \n",
       "6997             2  Background   Background  \n",
       "6581             1  Background   Background  "
      ]
     },
     "execution_count": 21,
     "metadata": {},
     "output_type": "execute_result"
    }
   ],
   "source": [
    "df = pd.DataFrame(data_dict)\n",
    "\n",
    "df = df.replace({np.nan:None})\n",
    "# do stratified\n",
    "df[\"class_fine\"] = df.apply(generate_class_description_fine, axis=1)\n",
    "df[\"class_coarse\"] = df[\"class_fine\"].apply(generate_class_description_coarse)\n",
    "df.to_json(data_path / f\"meta3d_train_{sql}_{sr}.jsonl\", lines=True, orient=\"records\")\n",
    "df.sample(5)"
   ]
  },
  {
   "attachments": {},
   "cell_type": "markdown",
   "metadata": {},
   "source": [
    "### Plot class occurences"
   ]
  },
  {
   "cell_type": "code",
   "execution_count": 16,
   "metadata": {},
   "outputs": [
    {
     "data": {
      "text/html": [
       "<div>\n",
       "<style scoped>\n",
       "    .dataframe tbody tr th:only-of-type {\n",
       "        vertical-align: middle;\n",
       "    }\n",
       "\n",
       "    .dataframe tbody tr th {\n",
       "        vertical-align: top;\n",
       "    }\n",
       "\n",
       "    .dataframe thead th {\n",
       "        text-align: right;\n",
       "    }\n",
       "</style>\n",
       "<table border=\"1\" class=\"dataframe\">\n",
       "  <thead>\n",
       "    <tr style=\"text-align: right;\">\n",
       "      <th></th>\n",
       "      <th>idx</th>\n",
       "      <th>frame_idx</th>\n",
       "      <th>label</th>\n",
       "      <th>shot</th>\n",
       "      <th>pass</th>\n",
       "      <th>outcome</th>\n",
       "      <th>body</th>\n",
       "      <th>team</th>\n",
       "      <th>hand</th>\n",
       "      <th>class_fine</th>\n",
       "      <th>class_coarse</th>\n",
       "    </tr>\n",
       "  </thead>\n",
       "  <tbody>\n",
       "    <tr>\n",
       "      <th>18842</th>\n",
       "      <td>18842</td>\n",
       "      <td>54119</td>\n",
       "      <td>{'Team': 'Rot', 'KÃ¶rper': 'Stand', 'Hand': 'l...</td>\n",
       "      <td>0.0</td>\n",
       "      <td>A</td>\n",
       "      <td>Erfolgreich</td>\n",
       "      <td>NaN</td>\n",
       "      <td>Rot</td>\n",
       "      <td>links</td>\n",
       "      <td>Schlagwurfpass</td>\n",
       "      <td>Pass</td>\n",
       "    </tr>\n",
       "    <tr>\n",
       "      <th>16275</th>\n",
       "      <td>16275</td>\n",
       "      <td>75438</td>\n",
       "      <td>{'Team': 'Rot', 'KÃ¶rper': 'Sprung', 'Hand': '...</td>\n",
       "      <td>0.0</td>\n",
       "      <td>A</td>\n",
       "      <td>Erfolgreich</td>\n",
       "      <td>NaN</td>\n",
       "      <td>Rot</td>\n",
       "      <td>rechts</td>\n",
       "      <td>Schlagwurfpass</td>\n",
       "      <td>Pass</td>\n",
       "    </tr>\n",
       "    <tr>\n",
       "      <th>4827</th>\n",
       "      <td>4827</td>\n",
       "      <td>41568</td>\n",
       "      <td>{}</td>\n",
       "      <td>NaN</td>\n",
       "      <td>None</td>\n",
       "      <td>None</td>\n",
       "      <td>NaN</td>\n",
       "      <td>None</td>\n",
       "      <td>None</td>\n",
       "      <td>Background</td>\n",
       "      <td>Background</td>\n",
       "    </tr>\n",
       "    <tr>\n",
       "      <th>7859</th>\n",
       "      <td>7859</td>\n",
       "      <td>20885</td>\n",
       "      <td>{}</td>\n",
       "      <td>NaN</td>\n",
       "      <td>None</td>\n",
       "      <td>None</td>\n",
       "      <td>NaN</td>\n",
       "      <td>None</td>\n",
       "      <td>None</td>\n",
       "      <td>Background</td>\n",
       "      <td>Background</td>\n",
       "    </tr>\n",
       "    <tr>\n",
       "      <th>8621</th>\n",
       "      <td>8621</td>\n",
       "      <td>37042</td>\n",
       "      <td>{}</td>\n",
       "      <td>NaN</td>\n",
       "      <td>None</td>\n",
       "      <td>None</td>\n",
       "      <td>NaN</td>\n",
       "      <td>None</td>\n",
       "      <td>None</td>\n",
       "      <td>Background</td>\n",
       "      <td>Background</td>\n",
       "    </tr>\n",
       "  </tbody>\n",
       "</table>\n",
       "</div>"
      ],
      "text/plain": [
       "         idx  frame_idx                                              label  \\\n",
       "18842  18842      54119  {'Team': 'Rot', 'KÃ¶rper': 'Stand', 'Hand': 'l...   \n",
       "16275  16275      75438  {'Team': 'Rot', 'KÃ¶rper': 'Sprung', 'Hand': '...   \n",
       "4827    4827      41568                                                 {}   \n",
       "7859    7859      20885                                                 {}   \n",
       "8621    8621      37042                                                 {}   \n",
       "\n",
       "       shot  pass      outcome  body  team    hand      class_fine  \\\n",
       "18842   0.0     A  Erfolgreich   NaN   Rot   links  Schlagwurfpass   \n",
       "16275   0.0     A  Erfolgreich   NaN   Rot  rechts  Schlagwurfpass   \n",
       "4827    NaN  None         None   NaN  None    None      Background   \n",
       "7859    NaN  None         None   NaN  None    None      Background   \n",
       "8621    NaN  None         None   NaN  None    None      Background   \n",
       "\n",
       "      class_coarse  \n",
       "18842         Pass  \n",
       "16275         Pass  \n",
       "4827    Background  \n",
       "7859    Background  \n",
       "8621    Background  "
      ]
     },
     "execution_count": 16,
     "metadata": {},
     "output_type": "execute_result"
    }
   ],
   "source": [
    "df = pd.read_json(\"dataset_train_sql=16_sr=2_nooverlap.jsonl\", lines=True)\n",
    "df.sample(5)\n"
   ]
  },
  {
   "cell_type": "code",
   "execution_count": 17,
   "metadata": {},
   "outputs": [
    {
     "data": {
      "image/png": "[encoded data removed]",
      "text/plain": [
       "<Figure size 640x480 with 1 Axes>"
      ]
     },
     "metadata": {},
     "output_type": "display_data"
    }
   ],
   "source": [
    "f = df.groupby(['class_coarse']).size().plot(kind='pie', y='class_coarse', autopct='%1.2f%%')\n"
   ]
  },
  {
   "attachments": {},
   "cell_type": "markdown",
   "metadata": {},
   "source": [
    "### Adding info to meta file"
   ]
  },
  {
   "cell_type": "code",
   "execution_count": 3,
   "metadata": {},
   "outputs": [
    {
     "name": "stdout",
     "output_type": "stream",
     "text": [
      "Match boundaries: [0, 52591, 105630, 158361, 211599, 264342, 317543, 370311, 424395, 477834, 530423, 583398]\n"
     ]
    }
   ],
   "source": [
    "sql = 16\n",
    "sr = 2\n",
    "dataset_img = MultiModalHblDataset(\n",
    "    meta_path=\"/nfs/home/rhotertj/datasets/hbl/meta3d.csv\",\n",
    "    seq_len=sql,\n",
    "    sampling_rate=sr,\n",
    "    load_frames=True   \n",
    ")\n",
    "# [(k, v) for (k,v) in dataset_img.event_dfs[0].head(20)[\"labels\"].items()]\n",
    "# 12126 O0\n",
    "print(\"Match boundaries:\", dataset_img.index_tracker)"
   ]
  },
  {
   "cell_type": "code",
   "execution_count": 5,
   "metadata": {},
   "outputs": [],
   "source": [
    "p = \"/nfs/home/rhotertj/datasets/hbl/meta3d.csv\"\n",
    "df = pd.read_csv(p, index_col=\"match_id\")\n",
    "\n",
    "for stage in [\"train\", \"val\", \"test\"]:\n",
    "    df[df.stage == stage].to_csv(f\"/nfs/home/rhotertj/datasets/hbl/meta3d_{stage}.csv\")"
   ]
  },
  {
   "attachments": {},
   "cell_type": "markdown",
   "metadata": {},
   "source": [
    "### Debugging idx -> Frame index mapping"
   ]
  },
  {
   "cell_type": "code",
   "execution_count": null,
   "metadata": {},
   "outputs": [],
   "source": [
    "sql = 4\n",
    "hql = sql // 2\n",
    "rate = 2\n",
    "sr = sql * rate\n",
    "hr = hql * rate\n",
    "kernel = np.ones(sr)\n",
    "\n",
    "availables = [True, True, True, True, True, True, True, True, True, True, True, True, True, False, False]\n",
    "pos = np.arange(len(availables))\n",
    "\n",
    "cv = np.convolve(availables, kernel)\n",
    "print(f\"{cv}\")\n",
    "idxs = np.where(cv == sr)[0] - (sr - 1) # subtract filter length - 1\n",
    "print(\"idx for valid sequences:\", idxs)\n",
    "\n",
    "q_idx = 0\n",
    "f_idx = idxs[q_idx] + hr\n",
    "sequence = pos[f_idx - hr : f_idx + hr : rate]\n",
    "print(f\"Idx for sequence {q_idx}: {sequence}\")"
   ]
  },
  {
   "attachments": {},
   "cell_type": "markdown",
   "metadata": {},
   "source": [
    "### Visualizing each class"
   ]
  },
  {
   "cell_type": "code",
   "execution_count": null,
   "metadata": {},
   "outputs": [],
   "source": [
    "sql = 16\n",
    "sr = 2\n",
    "dataset_img = MultiModalHblDataset(\n",
    "    meta_path=\"/nfs/home/rhotertj/datasets/hbl/meta3d.csv\",\n",
    "    seq_len=sql,\n",
    "    sampling_rate=sr,\n",
    "    load_frames=True\n",
    ")\n",
    "# TODO: Take jsonl dataset instead class2frame\n",
    "with open(\"class2frame.pkl\", \"rb\") as f:\n",
    "    class2frame = pkl.load(f)"
   ]
  },
  {
   "cell_type": "code",
   "execution_count": null,
   "metadata": {},
   "outputs": [],
   "source": [
    "os.makedirs(\"../img/classes\", exist_ok=True)\n",
    "n_per_class = 3\n",
    "for cls, frame_lists in class2frame.items():\n",
    "    match_id = 0\n",
    "    frame_id = 0\n",
    "    n = 0\n",
    "    for i, fl in enumerate(frame_lists):\n",
    "        if n == n_per_class:\n",
    "            break\n",
    "        if fl:\n",
    "            match_id = i\n",
    "            try:\n",
    "                frame_id = fl[(len(fl) // 2) + n] # dont take first pass of the game\n",
    "            except:\n",
    "                continue\n",
    "            example = dataset_img.__getitem__(0, frame_idx=frame_id, match_number=match_id)\n",
    "            frames = example[\"frames\"].transpose(1, 0, 2, 3)\n",
    "            gifname = f\"../img/classes/{cls}_{n}_{match_id}x{frame_id}.gif\"\n",
    "            array2gif(frames, gifname, fps=10)\n",
    "\n",
    "            positions = example[\"positions\"]\n",
    "            fig = draw_trajectory(positions)\n",
    "            figname = f\"../img/classes/{cls}_{n}_{match_id}x{frame_id}.png\"\n",
    "            fig.savefig(figname)\n",
    "            print(figname)\n",
    "            print(gifname)\n",
    "\n",
    "            n+= 1\n",
    "            "
   ]
  },
  {
   "attachments": {},
   "cell_type": "markdown",
   "metadata": {},
   "source": [
    "### Calculating Mean and Standard Deviation"
   ]
  },
  {
   "cell_type": "code",
   "execution_count": null,
   "metadata": {},
   "outputs": [],
   "source": [
    "sql = 16\n",
    "sr = 1\n",
    "dataset_img = MultiModalHblDataset(\n",
    "    meta_path=\"/nfs/home/rhotertj/datasets/hbl/meta3d.csv\",\n",
    "    seq_len=sql,\n",
    "    sampling_rate=sr,\n",
    "    load_frames=True\n",
    ")\n",
    "print(len(dataset_img))\n",
    "n = 0\n",
    "means = np.zeros((len(dataset_img) + sql, 3))\n",
    "stds = np.zeros((len(dataset_img) + sql, 3))\n",
    "\n",
    "for i in tqdm(range(0, len(dataset_img), sql)):\n",
    "    frames = torch.tensor(dataset_img[i][\"frames\"]) / 255\n",
    "\n",
    "    for j, frame in enumerate(frames):\n",
    "        mean, std = frame.mean([1,2]), frame.std([1,2])\n",
    "        means[i+j] = mean\n",
    "        stds[i+j] = std\n",
    "\n",
    "        n+=1\n",
    "print(n)\n",
    "print(means.shape)\n",
    "# Maybe we want to calculate this per match instead of over the whole dataset\n"
   ]
  },
  {
   "cell_type": "code",
   "execution_count": null,
   "metadata": {},
   "outputs": [],
   "source": [
    "np.save(\"means.npy\", means)\n",
    "np.save(\"std.npy\", stds)"
   ]
  },
  {
   "cell_type": "code",
   "execution_count": null,
   "metadata": {},
   "outputs": [],
   "source": [
    "print(means.mean(0), stds.mean(0))"
   ]
  }
 ],
 "metadata": {
  "kernelspec": {
   "display_name": "Python 3.10.6 ('thesis')",
   "language": "python",
   "name": "python3"
  },
  "language_info": {
   "codemirror_mode": {
    "name": "ipython",
    "version": 3
   },
   "file_extension": ".py",
   "mimetype": "text/x-python",
   "name": "python",
   "nbconvert_exporter": "python",
   "pygments_lexer": "ipython3",
   "version": "3.10.6"
  },
  "orig_nbformat": 4,
  "vscode": {
   "interpreter": {
    "hash": "b6bfefc7a39950bcdd742af1d8d7db7c97e184d8839e8870b13ce1c69afb51e4"
   }
  }
 },
 "nbformat": 4,
 "nbformat_minor": 2
}
