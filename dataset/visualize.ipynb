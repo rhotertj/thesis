{
 "cells": [
  {
   "attachments": {},
   "cell_type": "markdown",
   "metadata": {},
   "source": [
    "### Imports"
   ]
  },
  {
   "cell_type": "code",
   "execution_count": 1,
   "metadata": {},
   "outputs": [],
   "source": [
    "import sys\n",
    "sys.path.append(\"/nfs/home/rhotertj/Code/thesis/\")\n",
    "import numpy as np\n",
    "import pandas as pd\n",
    "import pickle as pkl\n",
    "import ipywidgets as widgets\n",
    "from collections import Counter, defaultdict\n",
    "import os.path as osp\n",
    "from pathlib import Path\n",
    "from tqdm import tqdm\n",
    "from PIL import Image\n",
    "from src.data import HandballSyncedDataset\n",
    "from src.utils import array2gif, draw_trajectory"
   ]
  },
  {
   "attachments": {},
   "cell_type": "markdown",
   "metadata": {},
   "source": [
    "### Checking frequencies of labels across matches"
   ]
  },
  {
   "cell_type": "code",
   "execution_count": null,
   "metadata": {},
   "outputs": [],
   "source": [
    "dataset = HandballSyncedDataset(\n",
    "    meta_path=\"/nfs/home/rhotertj/datasets/hbl/meta.csv\",\n",
    "    seq_len=12,\n",
    "    sampling_rate=2,\n",
    "    load_frames=False   \n",
    ")\n",
    "ctr = Counter()\n",
    "no_action = 0\n",
    "print(\"Dataset size:\", len(dataset))"
   ]
  },
  {
   "cell_type": "code",
   "execution_count": null,
   "metadata": {},
   "outputs": [],
   "source": [
    "for idx, instance in tqdm(enumerate(dataset), total=len(dataset)):\n",
    "    label = instance[\"label\"]\n",
    "    if isinstance(label, dict):\n",
    "        ctr.update({f\"{label['Pass']}{label['Wurf']}\" : 1})\n",
    "    else:\n",
    "        no_action += 1\n",
    "\n",
    "class_combinations = pd.DataFrame()\n",
    "for (pass_cls, shot_cls), n in ctr.items():\n",
    "    class_combinations.loc[shot_cls, pass_cls] = n\n",
    "print(\"No action:\", no_action)\n",
    "class_combinations"
   ]
  },
  {
   "cell_type": "code",
   "execution_count": null,
   "metadata": {},
   "outputs": [],
   "source": [
    "class_combinations.sum().sum() + no_action == len(dataset)"
   ]
  },
  {
   "cell_type": "code",
   "execution_count": null,
   "metadata": {},
   "outputs": [],
   "source": [
    "class_combinations.to_csv(\"occurences_12_2.csv\")"
   ]
  },
  {
   "cell_type": "code",
   "execution_count": null,
   "metadata": {},
   "outputs": [],
   "source": [
    "from collections import defaultdict\n",
    "import pickle as pkl\n",
    "class2frame = defaultdict(list)\n",
    "valid_combs = ['A0', 'A1', 'B0', 'O0', 'C0', 'D0', 'X0', 'O1', 'O2', 'O3', 'O4', 'O5', 'O6', 'O7', 'O8']\n",
    "\n",
    "for events in tqdm(dataset.event_dfs):\n",
    "    events[\"Wurf\"] = events.labels.apply(lambda x : x[\"Wurf\"])\n",
    "    events[\"Pass\"] = events.labels.apply(lambda x : x[\"Pass\"])\n",
    "    for k in valid_combs:\n",
    "        p, w = k\n",
    "        f = events[(events[\"Pass\"] == p) & (events[\"Wurf\"] == w)].index.tolist()\n",
    "        if f:\n",
    "            class2frame[k].append(f)\n",
    "\n",
    "with open(\"class2frame.pkl\", \"wb+\") as f:\n",
    "    pkl.dump(class2frame, f)\n"
   ]
  },
  {
   "attachments": {},
   "cell_type": "markdown",
   "metadata": {},
   "source": [
    "### Plotting positions and frames for synchronisation"
   ]
  },
  {
   "cell_type": "code",
   "execution_count": null,
   "metadata": {},
   "outputs": [],
   "source": [
    "sql = 12\n",
    "sr = 2\n",
    "dataset_img = HandballSyncedDataset(\n",
    "    meta_path=\"/nfs/home/rhotertj/datasets/hbl/meta.csv\",\n",
    "    seq_len=sql,\n",
    "    sampling_rate=sr,\n",
    "    load_frames=True   \n",
    ")\n",
    "# [(k, v) for (k,v) in dataset_img.event_dfs[0].head(20)[\"labels\"].items()]\n",
    "# 12126 O0\n",
    "print(\"Match boundaries:\", dataset_img.index_tracker)"
   ]
  },
  {
   "cell_type": "code",
   "execution_count": null,
   "metadata": {},
   "outputs": [],
   "source": [
    "idx = 109340\n",
    "pos_offset = 0 # positive values move positions \"into the past\"\n",
    "example = dataset_img.__getitem__(idx) #, frame_idx=idx, match_number=0)\n",
    "\n",
    "frames = np.transpose(example[\"frames\"], (3, 0, 1, 2))\n",
    "positions = example[\"positions\"]\n",
    "\n",
    "print(\"Frames and positions shape:\", frames.shape, positions.shape)\n",
    "print(\"Action label frame number:\", example[\"label_offset\"])\n",
    "print(\"Label:\", example[\"label\"])\n",
    "\n",
    "array2gif(frames, f\"../img/instance_{idx}_{sql}x{sr}.gif\", fps=10)\n",
    "fig = draw_trajectory(positions)\n",
    "# Mismatch Notes:\n",
    "# Game | positions offset\n",
    "# 0s   | 8 frames in the future\n",
    "# 1s   | 20 frames in the future, 109340 32x1\n",
    "# 2s   | mirrored, 16 frames in the past 204000 32x1\n",
    "# 3s   | looks good (319120 32x1 data)\n",
    "# 4s   | 16 frames in the future, see 426000 32x1\n",
    "# 5s   | mirrored, ok see 533450 32x1\n",
    "# 6s   | mirrored, ok, 641300 31x1\n",
    "# 7s   | 5 frames in the future, 745700 32x1\n",
    "# 8s   | mirrored, 47 frames in the future 854000 32x1\n",
    "# 9s   | 16 frames in the future 962400 32x1\n",
    "# 10s  | mirrored, 8 in the future 1071800"
   ]
  },
  {
   "cell_type": "code",
   "execution_count": 4,
   "metadata": {},
   "outputs": [
    {
     "ename": "IndexingError",
     "evalue": "Too many indexers",
     "output_type": "error",
     "traceback": [
      "\u001b[0;31m---------------------------------------------------------------------------\u001b[0m",
      "\u001b[0;31mIndexingError\u001b[0m                             Traceback (most recent call last)",
      "Cell \u001b[0;32mIn [4], line 18\u001b[0m\n\u001b[1;32m     16\u001b[0m df \u001b[39m=\u001b[39m pd\u001b[39m.\u001b[39mread_csv(p)\n\u001b[1;32m     17\u001b[0m \u001b[39mfor\u001b[39;00m i, row \u001b[39min\u001b[39;00m df\u001b[39m.\u001b[39miterrows():\n\u001b[0;32m---> 18\u001b[0m     row\u001b[39m.\u001b[39;49mloc[i, \u001b[39m\"\u001b[39;49m\u001b[39mposition_offset\u001b[39;49m\u001b[39m\"\u001b[39;49m] \u001b[39m=\u001b[39m offsets[i]\n\u001b[1;32m     20\u001b[0m df\u001b[39m.\u001b[39mto_csv(p)\n\u001b[1;32m     21\u001b[0m df\n",
      "File \u001b[0;32m~/env/miniconda3/envs/thesis/lib/python3.10/site-packages/pandas/core/indexing.py:814\u001b[0m, in \u001b[0;36m_LocationIndexer.__setitem__\u001b[0;34m(self, key, value)\u001b[0m\n\u001b[1;32m    812\u001b[0m \u001b[39melse\u001b[39;00m:\n\u001b[1;32m    813\u001b[0m     key \u001b[39m=\u001b[39m com\u001b[39m.\u001b[39mapply_if_callable(key, \u001b[39mself\u001b[39m\u001b[39m.\u001b[39mobj)\n\u001b[0;32m--> 814\u001b[0m indexer \u001b[39m=\u001b[39m \u001b[39mself\u001b[39;49m\u001b[39m.\u001b[39;49m_get_setitem_indexer(key)\n\u001b[1;32m    815\u001b[0m \u001b[39mself\u001b[39m\u001b[39m.\u001b[39m_has_valid_setitem_indexer(key)\n\u001b[1;32m    817\u001b[0m iloc \u001b[39m=\u001b[39m \u001b[39mself\u001b[39m \u001b[39mif\u001b[39;00m \u001b[39mself\u001b[39m\u001b[39m.\u001b[39mname \u001b[39m==\u001b[39m \u001b[39m\"\u001b[39m\u001b[39miloc\u001b[39m\u001b[39m\"\u001b[39m \u001b[39melse\u001b[39;00m \u001b[39mself\u001b[39m\u001b[39m.\u001b[39mobj\u001b[39m.\u001b[39miloc\n",
      "File \u001b[0;32m~/env/miniconda3/envs/thesis/lib/python3.10/site-packages/pandas/core/indexing.py:703\u001b[0m, in \u001b[0;36m_LocationIndexer._get_setitem_indexer\u001b[0;34m(self, key)\u001b[0m\n\u001b[1;32m    699\u001b[0m \u001b[39mif\u001b[39;00m \u001b[39misinstance\u001b[39m(key, \u001b[39mrange\u001b[39m):\n\u001b[1;32m    700\u001b[0m     \u001b[39m# GH#45479 test_loc_setitem_range_key\u001b[39;00m\n\u001b[1;32m    701\u001b[0m     key \u001b[39m=\u001b[39m \u001b[39mlist\u001b[39m(key)\n\u001b[0;32m--> 703\u001b[0m \u001b[39mreturn\u001b[39;00m \u001b[39mself\u001b[39;49m\u001b[39m.\u001b[39;49m_convert_to_indexer(key, axis\u001b[39m=\u001b[39;49m\u001b[39m0\u001b[39;49m)\n",
      "File \u001b[0;32m~/env/miniconda3/envs/thesis/lib/python3.10/site-packages/pandas/core/indexing.py:1359\u001b[0m, in \u001b[0;36m_LocIndexer._convert_to_indexer\u001b[0;34m(self, key, axis)\u001b[0m\n\u001b[1;32m   1351\u001b[0m     \u001b[39mreturn\u001b[39;00m labels\u001b[39m.\u001b[39m_convert_slice_indexer(key, kind\u001b[39m=\u001b[39m\u001b[39m\"\u001b[39m\u001b[39mloc\u001b[39m\u001b[39m\"\u001b[39m)\n\u001b[1;32m   1353\u001b[0m \u001b[39mif\u001b[39;00m (\n\u001b[1;32m   1354\u001b[0m     \u001b[39misinstance\u001b[39m(key, \u001b[39mtuple\u001b[39m)\n\u001b[1;32m   1355\u001b[0m     \u001b[39mand\u001b[39;00m \u001b[39mnot\u001b[39;00m \u001b[39misinstance\u001b[39m(labels, MultiIndex)\n\u001b[1;32m   1356\u001b[0m     \u001b[39mand\u001b[39;00m \u001b[39mself\u001b[39m\u001b[39m.\u001b[39mndim \u001b[39m<\u001b[39m \u001b[39m2\u001b[39m\n\u001b[1;32m   1357\u001b[0m     \u001b[39mand\u001b[39;00m \u001b[39mlen\u001b[39m(key) \u001b[39m>\u001b[39m \u001b[39m1\u001b[39m\n\u001b[1;32m   1358\u001b[0m ):\n\u001b[0;32m-> 1359\u001b[0m     \u001b[39mraise\u001b[39;00m IndexingError(\u001b[39m\"\u001b[39m\u001b[39mToo many indexers\u001b[39m\u001b[39m\"\u001b[39m)\n\u001b[1;32m   1361\u001b[0m \u001b[39mif\u001b[39;00m is_scalar(key) \u001b[39mor\u001b[39;00m (\u001b[39misinstance\u001b[39m(labels, MultiIndex) \u001b[39mand\u001b[39;00m is_hashable(key)):\n\u001b[1;32m   1362\u001b[0m     \u001b[39m# Otherwise get_loc will raise InvalidIndexError\u001b[39;00m\n\u001b[1;32m   1363\u001b[0m \n\u001b[1;32m   1364\u001b[0m     \u001b[39m# if we are a label return me\u001b[39;00m\n\u001b[1;32m   1365\u001b[0m     \u001b[39mtry\u001b[39;00m:\n",
      "\u001b[0;31mIndexingError\u001b[0m: Too many indexers"
     ]
    }
   ],
   "source": [
    "offsets = np.array([\n",
    "    8,\n",
    "    20,\n",
    "    -16,\n",
    "    0,\n",
    "    16,\n",
    "    0,\n",
    "    0,\n",
    "    5,\n",
    "    47,\n",
    "    16,\n",
    "    16\n",
    "])\n",
    "\n",
    "p = \"/nfs/home/rhotertj/datasets/hbl/meta.csv\"\n",
    "df = pd.read_csv(p)\n",
    "for i, _ in df.iterrows():\n",
    "    df.loc[i, \"position_offset\"] = offsets[i]\n",
    "\n",
    "df.to_csv(p)\n",
    "df"
   ]
  },
  {
   "attachments": {},
   "cell_type": "markdown",
   "metadata": {},
   "source": [
    "### Debugging idx -> Frame index mapping"
   ]
  },
  {
   "cell_type": "code",
   "execution_count": null,
   "metadata": {},
   "outputs": [],
   "source": [
    "sql = 4\n",
    "hql = sql // 2\n",
    "rate = 2\n",
    "sr = sql * rate\n",
    "hr = hql * rate\n",
    "kernel = np.ones(sr)\n",
    "\n",
    "availables = [False, False, True, True, True, True, True, True, True, True, True, True, True, False, False]\n",
    "pos = np.arange(len(availables))\n",
    "\n",
    "cv = np.convolve(availables, kernel)\n",
    "print(f\"{cv}\")\n",
    "idxs = np.where(cv == sr)[0] - (sr - 1)\n",
    "print(\"idx for valid sequences:\", idxs)\n",
    "\n",
    "q_idx = 0\n",
    "f_idx = idxs[q_idx] + hr\n",
    "sequence = pos[f_idx - hr : f_idx + hr : rate]\n",
    "print(f\"Idx for sequence {q_idx}: {sequence}\")"
   ]
  },
  {
   "attachments": {},
   "cell_type": "markdown",
   "metadata": {},
   "source": [
    "### Visualizing each class"
   ]
  },
  {
   "cell_type": "code",
   "execution_count": 2,
   "metadata": {},
   "outputs": [
    {
     "name": "stdout",
     "output_type": "stream",
     "text": [
      "Read /nfs/home/rhotertj/datasets/hbl/meta.csv...\n",
      "[16, 40, -32, 0, 32, 0, 0, 10, 94, 32, 16]\n"
     ]
    }
   ],
   "source": [
    "sql = 12\n",
    "sr = 2\n",
    "dataset_img = HandballSyncedDataset(\n",
    "    meta_path=\"/nfs/home/rhotertj/datasets/hbl/meta.csv\",\n",
    "    seq_len=sql,\n",
    "    sampling_rate=sr,\n",
    "    load_frames=True\n",
    ")\n",
    "\n",
    "with open(\"class2frame.pkl\", \"rb\") as f:\n",
    "    class2frame = pkl.load(f)"
   ]
  },
  {
   "cell_type": "code",
   "execution_count": 3,
   "metadata": {},
   "outputs": [
    {
     "name": "stdout",
     "output_type": "stream",
     "text": [
      "positions_offset=16\n",
      "Saved to ../img/class_A0_10x37623.gif\n",
      "positions_offset=16\n",
      "Saved to ../img/class_B0_10x34203.gif\n",
      "positions_offset=16\n",
      "Saved to ../img/class_O0_10x35596.gif\n",
      "positions_offset=16\n",
      "Saved to ../img/class_C0_10x44882.gif\n",
      "positions_offset=16\n",
      "Saved to ../img/class_D0_10x39681.gif\n",
      "positions_offset=16\n",
      "Saved to ../img/class_O1_10x40245.gif\n",
      "positions_offset=16\n",
      "Saved to ../img/class_O2_10x34279.gif\n",
      "positions_offset=16\n",
      "Saved to ../img/class_O3_10x34569.gif\n",
      "positions_offset=32\n",
      "Saved to ../img/class_O4_9x45769.gif\n",
      "positions_offset=94\n",
      "Saved to ../img/class_O5_8x50986.gif\n",
      "positions_offset=16\n",
      "Saved to ../img/class_O6_10x36865.gif\n",
      "positions_offset=16\n",
      "Saved to ../img/class_O7_10x65815.gif\n",
      "positions_offset=32\n",
      "Saved to ../img/class_X0_4x32212.gif\n",
      "positions_offset=-32\n",
      "Saved to ../img/class_O8_2x54281.gif\n",
      "positions_offset=16\n",
      "Saved to ../img/class_A1_0x12258.gif\n"
     ]
    },
    {
     "data": {
      "image/png": "[encoded data removed]",
      "text/plain": [
       "<Figure size 640x480 with 1 Axes>"
      ]
     },
     "metadata": {},
     "output_type": "display_data"
    }
   ],
   "source": [
    "for cls, frame_lists in class2frame.items():\n",
    "    match_id = 0\n",
    "    frame_id = 0\n",
    "    for i, fl in enumerate(frame_lists):\n",
    "        if fl:\n",
    "            match_id = i\n",
    "            frame_id = fl[len(fl) // 2] # dont take first pass of the game\n",
    "    \n",
    "    example = dataset_img.__getitem__(0, frame_idx=frame_id, match_number=match_id)\n",
    "    frames = np.transpose(example[\"frames\"], (3, 0, 1, 2))\n",
    "    array2gif(frames, f\"../img/class_{cls}_{match_id}x{frame_id}.gif\", fps=10)\n",
    "\n",
    "    positions = example[\"positions\"]\n",
    "    fig = draw_trajectory(positions)\n",
    "    fig.savefig(f\"../img/class_{cls}_{match_id}x{frame_id}.png\")\n",
    "    "
   ]
  }
 ],
 "metadata": {
  "kernelspec": {
   "display_name": "Python 3.10.6 ('thesis')",
   "language": "python",
   "name": "python3"
  },
  "language_info": {
   "codemirror_mode": {
    "name": "ipython",
    "version": 3
   },
   "file_extension": ".py",
   "mimetype": "text/x-python",
   "name": "python",
   "nbconvert_exporter": "python",
   "pygments_lexer": "ipython3",
   "version": "3.10.6"
  },
  "orig_nbformat": 4,
  "vscode": {
   "interpreter": {
    "hash": "b6bfefc7a39950bcdd742af1d8d7db7c97e184d8839e8870b13ce1c69afb51e4"
   }
  }
 },
 "nbformat": 4,
 "nbformat_minor": 2
}
